{
  "nbformat": 4,
  "nbformat_minor": 0,
  "metadata": {
    "colab": {
      "provenance": []
    },
    "kernelspec": {
      "name": "python3",
      "display_name": "Python 3"
    },
    "language_info": {
      "name": "python"
    }
  },
  "cells": [
    {
      "cell_type": "markdown",
      "source": [
        "1.What is a vector and how is it different from a scalar?\n",
        "\n",
        "\n"
      ],
      "metadata": {
        "id": "YzWhrReiPp4H"
      }
    },
    {
      "cell_type": "markdown",
      "source": [
        "A vector is either N * 1 or 1 * N matrix. It can also be expanded beyond one row and one columnn.\n",
        "\n",
        "Or, it can also be said in a way that vectors are those having both magnitude and direction, whereas, scalars have only magnitude but no direction, or simply a single value."
      ],
      "metadata": {
        "id": "AZX0Td4x6pzb"
      }
    },
    {
      "cell_type": "markdown",
      "source": [
        "2.Define matrix multiplication and explain its properties.\n",
        "\n",
        "\n"
      ],
      "metadata": {
        "id": "VZ1LmXGKPsM4"
      }
    },
    {
      "cell_type": "markdown",
      "source": [
        "Properties of matrix multiplication :\n",
        "\n",
        "1. Distributivity => A(B + C) = AB + AC\n",
        "\n",
        "2. Associativity => A(BC) = (AB)C\n",
        "\n",
        "3. Non Commutativity => AB != BA\n",
        "\n",
        "Matrix multipication takes place either with a matris tself or a single value i.e. scalar.\n",
        "\n",
        "=> If multiplied by an scaler then all the elemnts are multiplied by the scalar value to form a new matrix.\n",
        "\n",
        "=> If multipied by an vector or matrix, then each value of respective row is multipied and added with the values of the each respective column of other matrix for all rows and columns present in the matrix."
      ],
      "metadata": {
        "id": "gZtD07EV7wtO"
      }
    },
    {
      "cell_type": "markdown",
      "source": [
        "3.What is the determinant of a matrix, and what does it represent?\n",
        "\n",
        "\n"
      ],
      "metadata": {
        "id": "G-8ou65FPuMt"
      }
    },
    {
      "cell_type": "markdown",
      "source": [
        "Determinant is a scalar value obtained by the some pre defined functional rule calculation of a matrix.\n",
        "\n",
        "Determinant of a matrix is used to determine whether the matrix is invertible (non-singular) or not\n",
        "\n",
        "Value of a determinant for a matrix represent :\n",
        "\n",
        "=> if det = 1 => The matrix does not have magnifying property.\n",
        "\n",
        "=> if det < 1 => The matric has magnifying property.\n",
        "\n",
        "=> if det > 1 => The matrix has shrinking property.\n",
        "\n",
        "=> if det = 0 => Shrink any object to a dot. / The matrix is not invertable. / Simulatneous equations does not have solution."
      ],
      "metadata": {
        "id": "LBDLROjj9mIg"
      }
    },
    {
      "cell_type": "markdown",
      "source": [
        "4.Explain the concept of eigenvectors and eigenvalues.\n",
        "\n",
        "\n"
      ],
      "metadata": {
        "id": "KA1hj-LxPvtj"
      }
    },
    {
      "cell_type": "markdown",
      "source": [
        "**Eigenvalues** are the special set of scalar values that is associated with the set of linear equations most probably in the matrix equations.\n",
        "\n",
        "**Eigenvector** is a non-zero vector that can be changed at most by its scalar factor after the application of linear transformations. And the corresponding factor which scales the eigenvectors is called an **eigenvalue**."
      ],
      "metadata": {
        "id": "hFbKBrKV_uYe"
      }
    },
    {
      "cell_type": "markdown",
      "source": [
        "5.What is the difference between rank and nullity of a matrix?\n",
        "\n",
        "\n"
      ],
      "metadata": {
        "id": "B8NRXSVMPw-y"
      }
    },
    {
      "cell_type": "markdown",
      "source": [
        "**Rank** of a matrix tells the number of linearlly independent rows of a given matrix.\n",
        "\n",
        "**Nullity** defined as the nuber of vectors present in the null space of a given matrix. In other words, the dimension of the null space of the matrix A is called the nullity of A\n",
        "\n",
        "The size of the null space of the matrix provides us with the number of linear relations among attributes"
      ],
      "metadata": {
        "id": "Ml-KCUFMAPBH"
      }
    },
    {
      "cell_type": "markdown",
      "source": [
        "6.Define the transpose of a matrix and explain its properties.\n",
        "\n",
        "\n"
      ],
      "metadata": {
        "id": "Sb6AqyKdPyPg"
      }
    },
    {
      "cell_type": "markdown",
      "source": [
        "**Transpose** of a matrix is basically converting or transfroming the row into columns and columna into rows.\n",
        "\n",
        "Properties :     \n",
        "\n",
        "Note : **T** represents transpose.\n",
        "\n",
        "=> (A + B)^T  = (A)^T + (B)^T\n",
        "\n",
        "=> (AB)^T = (B)^T . (A)^T\n",
        "\n",
        "=> (KA)^T = KA^T\n",
        "\n",
        "=> (A^T)^T = A"
      ],
      "metadata": {
        "id": "K6qmsY9HBYdh"
      }
    },
    {
      "cell_type": "markdown",
      "source": [
        "7.What is the difference between a row vector and a column vector?\n",
        "\n",
        "\n"
      ],
      "metadata": {
        "id": "L_yjE5k4Pz-r"
      }
    },
    {
      "cell_type": "markdown",
      "source": [
        "**Row vector** have only row i.e, N * 1\n",
        "\n",
        "**Column** vector have only column i.e, 1 * N"
      ],
      "metadata": {
        "id": "1W4F0ZSwCVPq"
      }
    },
    {
      "cell_type": "markdown",
      "source": [
        "8.Define the dot product of two vectors and explain its significance.\n",
        "\n",
        "\n"
      ],
      "metadata": {
        "id": "CL4R289ZP1gC"
      }
    },
    {
      "cell_type": "markdown",
      "source": [
        "The **dot product** is equal to the sum of the product of the horizontal  components (rows) and the product of the vertical components (columns) of a matrix.\n",
        "\n",
        "Also, Dot product relates to the angle between two vectors"
      ],
      "metadata": {
        "id": "yqSSDYAKC5LF"
      }
    },
    {
      "cell_type": "markdown",
      "source": [
        "9.Explain the concept of orthogonality between vectors.\n",
        "\n"
      ],
      "metadata": {
        "id": "SapJX-r8P20I"
      }
    },
    {
      "cell_type": "markdown",
      "source": [
        "We say two vectors are orthogonal if they are perpendicular to each other.\n",
        "\n",
        "In Simple terms the dot products of the two vector is zero.\n",
        "\n",
        "Or, orthogonal vectors have a dot product of zero, which means they are perpendicular."
      ],
      "metadata": {
        "id": "VrNlQNtyDOYH"
      }
    },
    {
      "cell_type": "markdown",
      "source": [
        "10.What is a symmetric matrix, and what are its properties?\n",
        "\n"
      ],
      "metadata": {
        "id": "AuFCOocPP4Tc"
      }
    },
    {
      "cell_type": "markdown",
      "source": [
        "A symmetric matrix is a matrix that is equal to its transpose.\n",
        "\n",
        "Properties :\n",
        "\n",
        "A^T = A"
      ],
      "metadata": {
        "id": "jvpAxLN5DtS_"
      }
    },
    {
      "cell_type": "markdown",
      "source": [
        "11.Define the inverse of a matrix and explain when it exists.\n",
        "\n"
      ],
      "metadata": {
        "id": "fDQ_C1-jP5yE"
      }
    },
    {
      "cell_type": "markdown",
      "source": [
        "**Inverse of a Matrix** is a matrix that on multiplying with the original matrix result in the identity matrix.\n",
        "\n",
        "Note : not all matrices have inverses, and the existence of an inverse depends on the matrix being non-singular (having a non-zero determinant)"
      ],
      "metadata": {
        "id": "1Hj6D2vrERRd"
      }
    },
    {
      "cell_type": "markdown",
      "source": [
        "12.What is the difference between a full-rank and a singular matrix?\n",
        "\n"
      ],
      "metadata": {
        "id": "FXSRj7eiP7JS"
      }
    },
    {
      "cell_type": "markdown",
      "source": [
        "A matrix is **full rank** if its rank is the highest possible for a matrix of the same size\n",
        "\n",
        "A matrix is **singular matrix** if its determinent is zero."
      ],
      "metadata": {
        "id": "6_TiGzmWEwB8"
      }
    },
    {
      "cell_type": "markdown",
      "source": [
        "13.Explain the concept of matrix trace and its properties.\n",
        "\n"
      ],
      "metadata": {
        "id": "LstSaSoMP8ny"
      }
    },
    {
      "cell_type": "markdown",
      "source": [
        "The trace of a square matrix is the sum of its diagonal entries.\n",
        "\n",
        "Properties :     \n",
        "\n",
        "Note : Trace is represented as Tr\n",
        "\n",
        "=> Tr(A +B) = Tr(A) + Tr(B)\n",
        "\n",
        "=> Tr(cA) = cTr(A)\n",
        "\n",
        "=> Tr(AB) = Tr(BA)\n",
        "\n"
      ],
      "metadata": {
        "id": "rXHSjqKGFQWJ"
      }
    },
    {
      "cell_type": "markdown",
      "source": [
        "14.What is a diagonal matrix, and how is it useful?\n",
        "\n"
      ],
      "metadata": {
        "id": "2mMNXpQNP96l"
      }
    },
    {
      "cell_type": "markdown",
      "source": [
        "A **diagonal matrix** is that whose all non diagonal elements are zero.\n",
        "\n",
        "Note : diagonal matrices are efficient for certain matrix operations, such as matrix-vector multiplication\n",
        "\n",
        "Diagonal matrices have some properties that can be useful.\n",
        "\n",
        "If A and B are diagonal, then C = AB is diagonal. Further, C can be computed more efficiently than doing a full matrix multiplication"
      ],
      "metadata": {
        "id": "bNYIRQpnGDwt"
      }
    }
  ]
}