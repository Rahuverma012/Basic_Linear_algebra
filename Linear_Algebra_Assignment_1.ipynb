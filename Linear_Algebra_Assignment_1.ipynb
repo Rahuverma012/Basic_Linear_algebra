{
  "nbformat": 4,
  "nbformat_minor": 0,
  "metadata": {
    "colab": {
      "provenance": []
    },
    "kernelspec": {
      "name": "python3",
      "display_name": "Python 3"
    },
    "language_info": {
      "name": "python"
    }
  },
  "cells": [
    {
      "cell_type": "markdown",
      "source": [
        "Question: Perform vector addition for the following vectors: v = [2, 4, 6] and u\n",
        "= [1, 3, 5].\n",
        "\n",
        "\n"
      ],
      "metadata": {
        "id": "_h_kRpsh9Y87"
      }
    },
    {
      "cell_type": "code",
      "source": [
        "import numpy as np\n",
        "\n",
        "v = np.array([2, 4, 6])\n",
        "u = np.array([1, 3, 5])\n",
        "u_v = u + v\n",
        "print(u_v)"
      ],
      "metadata": {
        "colab": {
          "base_uri": "https://localhost:8080/"
        },
        "id": "hVMea46Y98s6",
        "outputId": "9b3cbabf-b90c-42d4-c839-85e4459b6b7c"
      },
      "execution_count": null,
      "outputs": [
        {
          "output_type": "stream",
          "name": "stdout",
          "text": [
            "[ 3  7 11]\n"
          ]
        }
      ]
    },
    {
      "cell_type": "markdown",
      "source": [
        "Question: Calculate the dot product of vectors v = [2, 4, 6] and u = [1, 3, 5].\n",
        "\n"
      ],
      "metadata": {
        "id": "uZARDE8K9ccT"
      }
    },
    {
      "cell_type": "code",
      "source": [
        "v = np.array([2, 4, 6])\n",
        "u = np.array([1, 3, 5])\n",
        "uv = np.dot(v, u)\n",
        "print(uv)"
      ],
      "metadata": {
        "colab": {
          "base_uri": "https://localhost:8080/"
        },
        "id": "tb0TzF18-Nmg",
        "outputId": "f17fc292-b85f-436e-b749-6c7a80feb80f"
      },
      "execution_count": null,
      "outputs": [
        {
          "output_type": "stream",
          "name": "stdout",
          "text": [
            "44\n"
          ]
        }
      ]
    },
    {
      "cell_type": "markdown",
      "source": [
        "Question: Find the norm (magnitude) of vector v = [3, -4, 5].\n",
        "\n"
      ],
      "metadata": {
        "id": "bhtLSXNG9eU1"
      }
    },
    {
      "cell_type": "code",
      "source": [
        "from numpy.linalg import norm\n",
        "\n",
        "v = np.array([3, -4, 5])\n",
        "nor = norm(v)\n",
        "nor"
      ],
      "metadata": {
        "colab": {
          "base_uri": "https://localhost:8080/"
        },
        "id": "B1zG86k4-XCM",
        "outputId": "0597efb9-4ef5-4789-ad6f-7f05962e0325"
      },
      "execution_count": null,
      "outputs": [
        {
          "output_type": "execute_result",
          "data": {
            "text/plain": [
              "7.0710678118654755"
            ]
          },
          "metadata": {},
          "execution_count": 4
        }
      ]
    },
    {
      "cell_type": "markdown",
      "source": [
        "Question: Given matrix A = [[1, 2], [3, 4]] and matrix B = [[5, 6], [7, 8]], perform\n",
        "matrix multiplication A * B.\n",
        "\n"
      ],
      "metadata": {
        "id": "g6COMROc9f6H"
      }
    },
    {
      "cell_type": "code",
      "source": [
        " A = np.array([[1, 2],\n",
        "               [3, 4]])\n",
        "\n",
        " B = np.array([[5, 6],\n",
        "               [7, 8]])\n",
        "\n",
        " mat_mul_A_B = np.matmul(A, B)\n",
        " print(mat_mul_A_B)"
      ],
      "metadata": {
        "colab": {
          "base_uri": "https://localhost:8080/"
        },
        "id": "dpU2Hmh7-sE-",
        "outputId": "7cdbf2ac-d215-454f-dfac-5d3ff0ab5304"
      },
      "execution_count": null,
      "outputs": [
        {
          "output_type": "stream",
          "name": "stdout",
          "text": [
            "[[19 22]\n",
            " [43 50]]\n"
          ]
        }
      ]
    },
    {
      "cell_type": "markdown",
      "source": [
        "Question: Calculate the determinant of matrix A = [[3, 1], [2, 4]].\n",
        "\n"
      ],
      "metadata": {
        "id": "ceAk9ieu9hj2"
      }
    },
    {
      "cell_type": "code",
      "source": [
        "from numpy.linalg import det\n",
        "\n",
        "A = np.array([[3, 1], [2, 4]])\n",
        "\n",
        "det_m = det(A)\n",
        "print(det_m)"
      ],
      "metadata": {
        "colab": {
          "base_uri": "https://localhost:8080/"
        },
        "id": "4xSF0TmL_I3x",
        "outputId": "2ba87053-1e68-418f-f8a1-9e407c8e50f4"
      },
      "execution_count": null,
      "outputs": [
        {
          "output_type": "stream",
          "name": "stdout",
          "text": [
            "10.000000000000002\n"
          ]
        }
      ]
    },
    {
      "cell_type": "markdown",
      "source": [
        "Question: Find the inverse of matrix A = [[2, 1], [4, 3]].\n",
        "\n"
      ],
      "metadata": {
        "id": "fzv2iWDo9jDX"
      }
    },
    {
      "cell_type": "code",
      "source": [
        "from numpy.linalg import inv\n",
        "\n",
        "A = np.array([[2, 1], [4, 3]])\n",
        "Inverse = inv(A)\n",
        "print(Inverse)"
      ],
      "metadata": {
        "colab": {
          "base_uri": "https://localhost:8080/"
        },
        "id": "TcshfpSg_nM-",
        "outputId": "058bd5b5-4221-407b-df73-e95daa95c553"
      },
      "execution_count": null,
      "outputs": [
        {
          "output_type": "stream",
          "name": "stdout",
          "text": [
            "[[ 1.5 -0.5]\n",
            " [-2.   1. ]]\n"
          ]
        }
      ]
    },
    {
      "cell_type": "markdown",
      "source": [
        "Question: Perform gradient descent to find the minimum of the function f(x) =\n",
        "x^2 + 2x - 3 starting from an initial value of x = 0 with a learning rate of 0.1.\n",
        "Perform three iterations.\n",
        "\n"
      ],
      "metadata": {
        "id": "liUtl-Yw9kvZ"
      }
    },
    {
      "cell_type": "markdown",
      "source": [
        "Question: Given a function f(x, y) = x^2 + y^2, calculate the partial derivatives\n",
        "∂f/∂x and ∂f/∂y.\n",
        "\n"
      ],
      "metadata": {
        "id": "lxUc-zAx9mkT"
      }
    },
    {
      "cell_type": "code",
      "source": [
        "import sympy as sy\n",
        "\n",
        "x, y = sy.symbols('x y')\n",
        "\n",
        "f = x**2 + y**2\n",
        "d_f_x = sy.diff(f, x)\n",
        "d_f_y = sy.diff(f, y)\n",
        "\n",
        "print(\"df/dx :\", d_f_x)\n",
        "print(\"df/dy :\", d_f_y)\n"
      ],
      "metadata": {
        "colab": {
          "base_uri": "https://localhost:8080/"
        },
        "id": "q2PZQwoZEwQd",
        "outputId": "7a95881a-447e-4a3c-e734-27b1fdb7afad"
      },
      "execution_count": null,
      "outputs": [
        {
          "output_type": "stream",
          "name": "stdout",
          "text": [
            "df/dx : 2*x\n",
            "df/dy : 2*y\n"
          ]
        }
      ]
    },
    {
      "cell_type": "markdown",
      "source": [
        "Question: Apply the chain rule to find the derivative of the function f(x) = (x^2+ 1)^3.\n",
        "\n"
      ],
      "metadata": {
        "id": "asiKVbGL9n0g"
      }
    },
    {
      "cell_type": "code",
      "source": [
        "import sympy as sp\n",
        "\n",
        "\n",
        "x, u = sp.symbols('x u')\n",
        "\n",
        "f = (x**2 + 1)**3\n",
        "inner_function = x**2 + 1\n",
        "outer_function = u**3\n",
        "\n",
        "df_du = sp.diff(outer_function, u)\n",
        "du_dx = sp.diff(inner_function, x)\n",
        "\n",
        "df_dx = df_du * du_dx       # As per cahin rule df/dx = (df/du) * (du/dx)\n",
        "\n",
        "print(\"Derivative of f(x) =\", df_dx)\n"
      ],
      "metadata": {
        "colab": {
          "base_uri": "https://localhost:8080/"
        },
        "id": "ZTgioKndJXPk",
        "outputId": "ee1b1dca-2fba-4c9e-a048-bbf4685af22b"
      },
      "execution_count": null,
      "outputs": [
        {
          "output_type": "stream",
          "name": "stdout",
          "text": [
            "Derivative of f(x) = 6*u**2*x\n"
          ]
        }
      ]
    },
    {
      "cell_type": "markdown",
      "source": [
        "Question: Use gradient descent to optimize the parameters (m and b) of a\n",
        "linear regression model. Given a dataset with inputs X and targets y, update\n",
        "the parameters iteratively based on the gradients of the mean squared error\n",
        "loss function until convergence.\n",
        ".\n"
      ],
      "metadata": {
        "id": "pXI1TsAd9pDp"
      }
    },
    {
      "cell_type": "markdown",
      "source": [
        "Question: Calculate the cross product of vectors v = [1, 2, 3] and u = [4, 5, 6].\n",
        "\n"
      ],
      "metadata": {
        "id": "ISUbNEYq9qc7"
      }
    },
    {
      "cell_type": "code",
      "source": [
        " v = np.array([1, 2, 3])\n",
        " u = np.array([4, 5, 6])\n",
        "\n",
        " cross = np.cross(v, u)\n",
        " print('Cross Product :', cross)"
      ],
      "metadata": {
        "colab": {
          "base_uri": "https://localhost:8080/"
        },
        "id": "b01jrOfkAyS2",
        "outputId": "a2e0d85f-69d2-4bc3-a95c-b1a9dc4ec4d5"
      },
      "execution_count": null,
      "outputs": [
        {
          "output_type": "stream",
          "name": "stdout",
          "text": [
            "Cross Product : [-3  6 -3]\n"
          ]
        },
        {
          "output_type": "execute_result",
          "data": {
            "text/plain": [
              "array([ 3, -6,  3])"
            ]
          },
          "metadata": {},
          "execution_count": 42
        }
      ]
    },
    {
      "cell_type": "markdown",
      "source": [
        "Question: Find the angle between vectors v = [1, 2, 3] and u = [4, 5, 6].\n",
        "\n"
      ],
      "metadata": {
        "id": "yDS-6TsT9rki"
      }
    },
    {
      "cell_type": "code",
      "source": [
        "from numpy.linalg import norm\n",
        "import numpy as np\n",
        "\n",
        "v = np.array([1, 2, 3])\n",
        "u = np.array([4, 5, 6])\n",
        "\n",
        "dot = np.dot(v, u)\n",
        "mag_v = norm(v)\n",
        "mag_u = norm(u)\n",
        "\n",
        "cos_theta = dot / (mag_v * mag_u)\n",
        "angle_radian = np.arccos(cos_theta)       #calculating angle in radians\n",
        "angle_degree = np.degrees(angle_radian)           #angle to degrees\n",
        "\n",
        "print('Angle in radian :', angle_radian)\n",
        "print('Angle in degree :', angle_degree)\n"
      ],
      "metadata": {
        "colab": {
          "base_uri": "https://localhost:8080/"
        },
        "id": "8RHHKS0NKxJV",
        "outputId": "7c230ced-b039-48c6-9c80-d0ed1f72b9bf"
      },
      "execution_count": null,
      "outputs": [
        {
          "output_type": "stream",
          "name": "stdout",
          "text": [
            "Angle in radian : 0.2257261285527342\n",
            "Angle in degree : 12.933154491899135\n"
          ]
        }
      ]
    },
    {
      "cell_type": "markdown",
      "source": [
        "Question: Given matrix A = [[2, 3], [4, 5]] and matrix B = [[1, 2], [3, 4]], perform\n",
        "matrix addition A + B.\n",
        "\n"
      ],
      "metadata": {
        "id": "Z2axiDCZ9tBO"
      }
    },
    {
      "cell_type": "code",
      "source": [
        "A = np.array([[2, 3],\n",
        "              [4, 5]])\n",
        "\n",
        "B = np.array([[1, 2],\n",
        "              [3, 4]])\n",
        "\n",
        "A_B = A + B\n",
        "print('Adding matrix A and B :\\n', A_B)"
      ],
      "metadata": {
        "colab": {
          "base_uri": "https://localhost:8080/"
        },
        "id": "X0uJLUOYM7Mv",
        "outputId": "e4c4e8c1-bef8-4cbe-98ad-9d7aa8ea43ed"
      },
      "execution_count": null,
      "outputs": [
        {
          "output_type": "stream",
          "name": "stdout",
          "text": [
            "Adding matrix A and B :\n",
            " [[3 5]\n",
            " [7 9]]\n"
          ]
        }
      ]
    },
    {
      "cell_type": "markdown",
      "source": [
        "Question: Calculate the eigenvalues and eigenvectors of matrix A = [[2, 1], [1,2]].\n",
        "\n"
      ],
      "metadata": {
        "id": "G_QrmQ_q9u_f"
      }
    },
    {
      "cell_type": "code",
      "source": [
        "from numpy.linalg import eig\n",
        "\n",
        "A = np.array([[2, 1], [1,2]])\n",
        "\n",
        "value, vector = eig(A)\n",
        "\n",
        "print('Eigen Values :\\n', value)\n",
        "print('\\nEigen Vector :\\n', vector)"
      ],
      "metadata": {
        "colab": {
          "base_uri": "https://localhost:8080/"
        },
        "id": "G6Myi2GzNYFQ",
        "outputId": "1d4fd70c-a9bf-4ebe-9561-52f4136ced61"
      },
      "execution_count": null,
      "outputs": [
        {
          "output_type": "stream",
          "name": "stdout",
          "text": [
            "Eigen Values :\n",
            " [3. 1.]\n",
            "\n",
            "Eigen Vector :\n",
            " [[ 0.70710678 -0.70710678]\n",
            " [ 0.70710678  0.70710678]]\n"
          ]
        }
      ]
    },
    {
      "cell_type": "markdown",
      "source": [
        "Question: Determine the LU factorization of matrix A = [[2, 4], [1, 3]]."
      ],
      "metadata": {
        "id": "paf7uv2t9xOr"
      }
    },
    {
      "cell_type": "code",
      "execution_count": null,
      "metadata": {
        "colab": {
          "base_uri": "https://localhost:8080/"
        },
        "id": "GyGa7U309YMv",
        "outputId": "447742ec-fec1-4e8e-c058-9b1dd0d65330"
      },
      "outputs": [
        {
          "output_type": "execute_result",
          "data": {
            "text/plain": [
              "(array([[1., 0.],\n",
              "        [0., 1.]]),\n",
              " array([[1. , 0. ],\n",
              "        [0.5, 1. ]]),\n",
              " array([[2., 4.],\n",
              "        [0., 1.]]))"
            ]
          },
          "metadata": {},
          "execution_count": 73
        }
      ],
      "source": [
        "from scipy.linalg import lu\n",
        "\n",
        "A = np.array([[2, 4], [1, 3]])\n",
        "\n",
        "LU_Factor= lu(A)\n",
        "LU_Factor"
      ]
    }
  ]
}